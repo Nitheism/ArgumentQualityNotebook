{
 "cells": [
  {
   "cell_type": "markdown",
   "metadata": {},
   "source": [
    "# Argument Quality Analysis\n"
   ]
  },
  {
   "cell_type": "markdown",
   "metadata": {},
   "source": [
    "### load data:\n"
   ]
  },
  {
   "cell_type": "code",
   "execution_count": 1,
   "metadata": {
    "collapsed": false
   },
   "outputs": [
    {
     "data": {
      "text/html": [
       "<div>\n",
       "<table border=\"1\" class=\"dataframe\">\n",
       "  <thead>\n",
       "    <tr style=\"text-align: right;\">\n",
       "      <th></th>\n",
       "      <th>#id</th>\n",
       "      <th>rank</th>\n",
       "      <th>argument</th>\n",
       "    </tr>\n",
       "  </thead>\n",
       "  <tbody>\n",
       "    <tr>\n",
       "      <th>0</th>\n",
       "      <td>arg219207</td>\n",
       "      <td>0.00650</td>\n",
       "      <td>Bottled water consumption has grown exponentia...</td>\n",
       "    </tr>\n",
       "    <tr>\n",
       "      <th>1</th>\n",
       "      <td>arg219237</td>\n",
       "      <td>0.06618</td>\n",
       "      <td>jesus loves plastic water bottles, and you can...</td>\n",
       "    </tr>\n",
       "    <tr>\n",
       "      <th>2</th>\n",
       "      <td>arg219206</td>\n",
       "      <td>0.00558</td>\n",
       "      <td>Americans spend billions on bottled water ever...</td>\n",
       "    </tr>\n",
       "    <tr>\n",
       "      <th>3</th>\n",
       "      <td>arg219203</td>\n",
       "      <td>0.00773</td>\n",
       "      <td>The American Water companies are Aquafina (Pep...</td>\n",
       "    </tr>\n",
       "    <tr>\n",
       "      <th>4</th>\n",
       "      <td>arg219225</td>\n",
       "      <td>0.00536</td>\n",
       "      <td>Banning plastic bottled water would be a huge ...</td>\n",
       "    </tr>\n",
       "  </tbody>\n",
       "</table>\n",
       "</div>"
      ],
      "text/plain": [
       "         #id     rank                                           argument\n",
       "0  arg219207  0.00650  Bottled water consumption has grown exponentia...\n",
       "1  arg219237  0.06618  jesus loves plastic water bottles, and you can...\n",
       "2  arg219206  0.00558  Americans spend billions on bottled water ever...\n",
       "3  arg219203  0.00773  The American Water companies are Aquafina (Pep...\n",
       "4  arg219225  0.00536  Banning plastic bottled water would be a huge ..."
      ]
     },
     "execution_count": 1,
     "metadata": {},
     "output_type": "execute_result"
    }
   ],
   "source": [
    "import pandas as pd\n",
    "data = pd.read_csv('all.csv', encoding = 'latin-1')\n",
    "data.head()"
   ]
  },
  {
   "cell_type": "code",
   "execution_count": 2,
   "metadata": {
    "collapsed": false
   },
   "outputs": [
    {
     "data": {
      "text/plain": [
       "(0    0.00650\n",
       " 1    0.06618\n",
       " 2    0.00558\n",
       " 3    0.00773\n",
       " 4    0.00536\n",
       " Name: rank, dtype: float64,\n",
       " 0    Bottled water consumption has grown exponentia...\n",
       " 1    jesus loves plastic water bottles, and you can...\n",
       " 2    Americans spend billions on bottled water ever...\n",
       " 3    The American Water companies are Aquafina (Pep...\n",
       " 4    Banning plastic bottled water would be a huge ...\n",
       " Name: argument, dtype: object)"
      ]
     },
     "execution_count": 2,
     "metadata": {},
     "output_type": "execute_result"
    }
   ],
   "source": [
    "ranks = data['rank']\n",
    "arguments = data['argument']\n",
    "ranks.head(), arguments.head()"
   ]
  },
  {
   "cell_type": "markdown",
   "metadata": {},
   "source": [
    "### Functions to collect parts of speech: \n",
    "\n",
    "<h4>all parts of speech respond to this annotations --> <h4/> \n",
    "<url> https://www.ling.upenn.edu/courses/Fall_2003/ling001/penn_treebank_pos.html<url/>"
   ]
  },
  {
   "cell_type": "markdown",
   "metadata": {},
   "source": [
    "<h4>Collecting modal verbs ratios : </h4>\n"
   ]
  },
  {
   "cell_type": "code",
   "execution_count": 3,
   "metadata": {
    "collapsed": false
   },
   "outputs": [],
   "source": [
    "def getModals(words, lenght,all_md):\n",
    "    can = 0\n",
    "    could = 0\n",
    "    might = 0\n",
    "    may = 0\n",
    "    must = 0\n",
    "    should = 0\n",
    "    will = 0\n",
    "    would = 0\n",
    "    shall = 0\n",
    "    md = 0\n",
    "    for a in words:\n",
    "        if a == 'could':\n",
    "            could+=1\n",
    "        if a == 'can':\n",
    "            can+=1    \n",
    "        if a == 'might':\n",
    "            might+=1\n",
    "        if a == 'may':\n",
    "            may+=1\n",
    "        if a == 'should':\n",
    "            should+=1 \n",
    "        if a == 'will':\n",
    "            will+=1    \n",
    "        if a == 'would':\n",
    "            would+=1    \n",
    "        if a == 'shall':\n",
    "            shall+=1   \n",
    "        if a == 'must':\n",
    "            must+=1    \n",
    "    if can != 0 :        \n",
    "        Can.append(can/lenght) \n",
    "    else: Can.append(0)   \n",
    "    if could!= 0:\n",
    "        Could.append(could/lenght)\n",
    "    else: Could.append(0)\n",
    "    if might != 0:    \n",
    "         Might.append(might/lenght)\n",
    "    else: Might.append(0) \n",
    "    if may != 0:\n",
    "         May.append(may/lenght)\n",
    "    else: May.append(0) \n",
    "    if must != 0:        \n",
    "         Must.append(must/lenght)\n",
    "    else: Must.append(0)\n",
    "    if should != 0:\n",
    "         Should.append(should/lenght)\n",
    "    else: Should.append(0)   \n",
    "    if will != 0:        \n",
    "         Will.append(will/lenght)\n",
    "    else: Will.append(0)\n",
    "    if would != 0:\n",
    "         Would.append(would/lenght)\n",
    "    else: Would.append(0)    \n",
    "    if shall != 0:\n",
    "         Shall.append(shall/lenght)\n",
    "    else: Shall.append(0)\n",
    "    if all_md is not None:\n",
    "        Modals.append(all_md/lenght)\n",
    "        md = all_md/lenght\n",
    "    else: Modals.append(0)    \n",
    "    return md"
   ]
  },
  {
   "cell_type": "markdown",
   "metadata": {},
   "source": [
    " <h4>Collecting superlative adjectives and adverb ratios along with all adjectvie and adverb ratios in a text</h4>"
   ]
  },
  {
   "cell_type": "code",
   "execution_count": 4,
   "metadata": {
    "collapsed": false
   },
   "outputs": [],
   "source": [
    "def getAdjAdv(counts,lenght):\n",
    "    jjs = 0\n",
    "    jj = 0\n",
    "    jjr = 0\n",
    "    rbs = 0\n",
    "    rbr = 0\n",
    "    rb = 0\n",
    "    jjs_ratio = 0\n",
    "    rbs_ratio = 0\n",
    "    advb_ratio = 0\n",
    "    adj_ratio = 0\n",
    "    if counts.get('JJS')is not None:\n",
    "        jjs = counts.get('JJS')\n",
    "    if counts.get('JJ') is not None:\n",
    "        jj = counts.get('JJ')\n",
    "    if counts.get('JJR') is not None:\n",
    "        jjr = counts.get('JJR')\n",
    "    if counts.get('RB') is not None:\n",
    "        rb = counts.get('RB')\n",
    "    if counts.get('RBS') is not None:\n",
    "        rbs = counts.get('RBS')\n",
    "    if counts.get('RBR') is not None:\n",
    "        rbr = counts.get('RBR')\n",
    "    \n",
    "    all_advb = rb + rbr + rbs\n",
    "    all_adj = jjs+jj+jjr\n",
    "    if all_advb != 0:\n",
    "        rbs_ratio = rbs/all_advb\n",
    "        advb_ratio = all_advb/lenght\n",
    "    if all_adj != 0:\n",
    "        jjs_ratio = jjs/all_adj\n",
    "        adj_ratio = all_adj/lenght\n",
    "    jjs_ratios.append(jjs_ratio)\n",
    "    rbs_ratios.append(rbs_ratio)\n",
    "    adj_ratios.append(adj_ratio)\n",
    "    advb_ratios.append(advb_ratio)\n",
    "    return advb_ratio, adj_ratio    "
   ]
  },
  {
   "cell_type": "markdown",
   "metadata": {},
   "source": [
    "<h4> Collecting verb and nouns ratios </h4>"
   ]
  },
  {
   "cell_type": "code",
   "execution_count": 5,
   "metadata": {
    "collapsed": false
   },
   "outputs": [],
   "source": [
    "def noun_verb_rates(counts, lenght):\n",
    "    all_verbs = 0\n",
    "    all_nouns = 0\n",
    "    if counts.get('VB') is not None:\n",
    "        all_verbs += counts.get('VB')\n",
    "    if counts.get('VBG') is not None:\n",
    "        all_verbs += counts.get('VBG')\n",
    "    if counts.get('VBD') is not None:\n",
    "        all_verbs += counts.get('VBD')   \n",
    "    if counts.get('VBN') is not None:\n",
    "        all_verbs += counts.get('VBN')      \n",
    "    if counts.get('VBP') is not None:\n",
    "        all_verbs += counts.get('VBP')      \n",
    "    if counts.get('VBZ') is not None:\n",
    "        all_verbs += counts.get('VBZ') \n",
    "    if counts.get('NN') is not None:\n",
    "        all_nouns += counts.get('NN')\n",
    "    if counts.get('NNS') is not None:\n",
    "        all_nouns += counts.get('NNS')    \n",
    "    if counts.get('NNP') is not None:\n",
    "        all_nouns += counts.get('NNP')    \n",
    "    if counts.get('NNPS') is not None:\n",
    "        all_nouns += counts.get('NNPS')    \n",
    "        \n",
    "    if all_verbs != 0:\n",
    "        all_verbs = all_verbs /lenght\n",
    "    if all_nouns != 0:\n",
    "        all_nouns = all_nouns /lenght\n",
    "    noun_ratios.append(all_nouns)\n",
    "    verb_ratios.append(all_verbs)\n",
    "    return all_nouns, all_verbs"
   ]
  },
  {
   "cell_type": "markdown",
   "metadata": {},
   "source": [
    "<h4> Collecting prepositions, pronomens and interjection ratios </h4>"
   ]
  },
  {
   "cell_type": "code",
   "execution_count": 6,
   "metadata": {
    "collapsed": false
   },
   "outputs": [],
   "source": [
    "def prep_pro_interj(counts, lenght):\n",
    "    all_prep = 0\n",
    "    all_interj = 0\n",
    "    all_pro = 0\n",
    "    if counts.get('UH') is not None:\n",
    "        all_interj = counts.get('UH')\n",
    "    if counts.get ('IN') is not None:\n",
    "        all_prep = counts.get('IN')\n",
    "    if counts.get('PRP') is not None:\n",
    "        all_pro += counts.get('PRP')\n",
    "    if counts.get ('PRP$') is not None:\n",
    "        all_pro += counts.get ('PRP$')\n",
    "    if all_pro != 0 :\n",
    "        all_pro = all_pro / lenght\n",
    "    if all_prep != 0:\n",
    "        all_prep = all_prep / lenght\n",
    "    if all_interj != 0:\n",
    "        all_interj / lenght   \n",
    "    prep_ratios.append(all_prep)\n",
    "    interj_ratios.append(all_interj)\n",
    "    pro_ratios.append(all_pro)\n",
    "    return all_pro, all_prep, all_interj    "
   ]
  },
  {
   "cell_type": "markdown",
   "metadata": {},
   "source": [
    "<h2>Extracting features from arguments</h2>"
   ]
  },
  {
   "cell_type": "code",
   "execution_count": 7,
   "metadata": {
    "collapsed": false,
    "scrolled": true
   },
   "outputs": [
    {
     "data": {
      "text/html": [
       "<div>\n",
       "<table border=\"1\" class=\"dataframe\">\n",
       "  <thead>\n",
       "    <tr style=\"text-align: right;\">\n",
       "      <th></th>\n",
       "      <th>0</th>\n",
       "      <th>1</th>\n",
       "      <th>2</th>\n",
       "      <th>3</th>\n",
       "      <th>4</th>\n",
       "      <th>5</th>\n",
       "      <th>6</th>\n",
       "      <th>7</th>\n",
       "      <th>8</th>\n",
       "      <th>9</th>\n",
       "      <th>...</th>\n",
       "      <th>modals</th>\n",
       "      <th>will</th>\n",
       "      <th>should</th>\n",
       "      <th>could</th>\n",
       "      <th>can</th>\n",
       "      <th>may</th>\n",
       "      <th>might</th>\n",
       "      <th>shall</th>\n",
       "      <th>would</th>\n",
       "      <th>must</th>\n",
       "    </tr>\n",
       "  </thead>\n",
       "  <tbody>\n",
       "    <tr>\n",
       "      <th>0</th>\n",
       "      <td>0</td>\n",
       "      <td>0</td>\n",
       "      <td>0</td>\n",
       "      <td>1</td>\n",
       "      <td>1</td>\n",
       "      <td>0</td>\n",
       "      <td>0</td>\n",
       "      <td>0</td>\n",
       "      <td>0</td>\n",
       "      <td>0</td>\n",
       "      <td>...</td>\n",
       "      <td>0.000000</td>\n",
       "      <td>0.0</td>\n",
       "      <td>0.0</td>\n",
       "      <td>0.0</td>\n",
       "      <td>0.000000</td>\n",
       "      <td>0.0</td>\n",
       "      <td>0.0</td>\n",
       "      <td>0.0</td>\n",
       "      <td>0.000000</td>\n",
       "      <td>0.0</td>\n",
       "    </tr>\n",
       "    <tr>\n",
       "      <th>1</th>\n",
       "      <td>0</td>\n",
       "      <td>0</td>\n",
       "      <td>0</td>\n",
       "      <td>0</td>\n",
       "      <td>0</td>\n",
       "      <td>0</td>\n",
       "      <td>0</td>\n",
       "      <td>0</td>\n",
       "      <td>1</td>\n",
       "      <td>1</td>\n",
       "      <td>...</td>\n",
       "      <td>0.000000</td>\n",
       "      <td>0.0</td>\n",
       "      <td>0.0</td>\n",
       "      <td>0.0</td>\n",
       "      <td>0.000000</td>\n",
       "      <td>0.0</td>\n",
       "      <td>0.0</td>\n",
       "      <td>0.0</td>\n",
       "      <td>0.000000</td>\n",
       "      <td>0.0</td>\n",
       "    </tr>\n",
       "    <tr>\n",
       "      <th>2</th>\n",
       "      <td>1</td>\n",
       "      <td>1</td>\n",
       "      <td>0</td>\n",
       "      <td>2</td>\n",
       "      <td>0</td>\n",
       "      <td>1</td>\n",
       "      <td>1</td>\n",
       "      <td>3</td>\n",
       "      <td>2</td>\n",
       "      <td>0</td>\n",
       "      <td>...</td>\n",
       "      <td>0.016529</td>\n",
       "      <td>0.0</td>\n",
       "      <td>0.0</td>\n",
       "      <td>0.0</td>\n",
       "      <td>0.008264</td>\n",
       "      <td>0.0</td>\n",
       "      <td>0.0</td>\n",
       "      <td>0.0</td>\n",
       "      <td>0.008264</td>\n",
       "      <td>0.0</td>\n",
       "    </tr>\n",
       "    <tr>\n",
       "      <th>3</th>\n",
       "      <td>0</td>\n",
       "      <td>0</td>\n",
       "      <td>0</td>\n",
       "      <td>0</td>\n",
       "      <td>0</td>\n",
       "      <td>0</td>\n",
       "      <td>0</td>\n",
       "      <td>0</td>\n",
       "      <td>0</td>\n",
       "      <td>0</td>\n",
       "      <td>...</td>\n",
       "      <td>0.000000</td>\n",
       "      <td>0.0</td>\n",
       "      <td>0.0</td>\n",
       "      <td>0.0</td>\n",
       "      <td>0.000000</td>\n",
       "      <td>0.0</td>\n",
       "      <td>0.0</td>\n",
       "      <td>0.0</td>\n",
       "      <td>0.000000</td>\n",
       "      <td>0.0</td>\n",
       "    </tr>\n",
       "    <tr>\n",
       "      <th>4</th>\n",
       "      <td>2</td>\n",
       "      <td>1</td>\n",
       "      <td>0</td>\n",
       "      <td>5</td>\n",
       "      <td>1</td>\n",
       "      <td>0</td>\n",
       "      <td>1</td>\n",
       "      <td>2</td>\n",
       "      <td>0</td>\n",
       "      <td>0</td>\n",
       "      <td>...</td>\n",
       "      <td>0.017699</td>\n",
       "      <td>0.0</td>\n",
       "      <td>0.0</td>\n",
       "      <td>0.0</td>\n",
       "      <td>0.008850</td>\n",
       "      <td>0.0</td>\n",
       "      <td>0.0</td>\n",
       "      <td>0.0</td>\n",
       "      <td>0.008850</td>\n",
       "      <td>0.0</td>\n",
       "    </tr>\n",
       "  </tbody>\n",
       "</table>\n",
       "<p>5 rows × 30 columns</p>\n",
       "</div>"
      ],
      "text/plain": [
       "   0  1  2  3  4  5  6  7  8  9  ...     modals  will  should  could  \\\n",
       "0  0  0  0  1  1  0  0  0  0  0  ...   0.000000   0.0     0.0    0.0   \n",
       "1  0  0  0  0  0  0  0  0  1  1  ...   0.000000   0.0     0.0    0.0   \n",
       "2  1  1  0  2  0  1  1  3  2  0  ...   0.016529   0.0     0.0    0.0   \n",
       "3  0  0  0  0  0  0  0  0  0  0  ...   0.000000   0.0     0.0    0.0   \n",
       "4  2  1  0  5  1  0  1  2  0  0  ...   0.017699   0.0     0.0    0.0   \n",
       "\n",
       "        can  may  might  shall     would  must  \n",
       "0  0.000000  0.0    0.0    0.0  0.000000   0.0  \n",
       "1  0.000000  0.0    0.0    0.0  0.000000   0.0  \n",
       "2  0.008264  0.0    0.0    0.0  0.008264   0.0  \n",
       "3  0.000000  0.0    0.0    0.0  0.000000   0.0  \n",
       "4  0.008850  0.0    0.0    0.0  0.008850   0.0  \n",
       "\n",
       "[5 rows x 30 columns]"
      ]
     },
     "execution_count": 7,
     "metadata": {},
     "output_type": "execute_result"
    }
   ],
   "source": [
    "from nltk import word_tokenize, pos_tag\n",
    "from pandas.tools.plotting import lag_plot\n",
    "from collections import Counter\n",
    "from sklearn.feature_extraction.text import CountVectorizer\n",
    "countVectorizer = CountVectorizer(ngram_range=(1, 2), max_df = 0.6, max_features = 10, analyzer='word')\n",
    "Can = []\n",
    "Could = []\n",
    "Might = []\n",
    "May = []\n",
    "Must = []\n",
    "Should = []\n",
    "Will = []\n",
    "Would = []\n",
    "Shall = []\n",
    "Modals = []\n",
    "jjs_ratios = []\n",
    "rbs_ratios = []\n",
    "adj_ratios = []\n",
    "advb_ratios = []\n",
    "noun_ratios = []\n",
    "verb_ratios = []\n",
    "interj_ratios = []\n",
    "pro_ratios = []\n",
    "prep_ratios = []\n",
    "contextuality_measure = []\n",
    "for argument in arguments:\n",
    "    words = word_tokenize(argument)\n",
    "    tags = pos_tag(words)\n",
    "    counts = Counter(tag for word, tag in tags)\n",
    "    md = getModals(words,len(words),counts.get('MD'))           \n",
    "       \n",
    "    advb_ratio, adj_ratio = getAdjAdv(counts, len(words))\n",
    "    noun_ratio, verb_ratio = noun_verb_rates(counts, len(words))\n",
    "    pro_ratio, prep_ratio, interj_ratio = prep_pro_interj(counts, len(words))\n",
    "    # noun ratio + adj ratio + prepositions ratio  - pronoun ratio - verb ratio -\n",
    "    # adverb - interjection + 1\n",
    "    context_measure = (noun_ratio + adj_ratio + prep_ratio - pro_ratio - verb_ratio - advb_ratio - interj_ratio+100)*0.5\n",
    "    contextuality_measure.append(context_measure)\n",
    "#print(contextuality_measure)    \n",
    "\n",
    "#Getting n-grams\n",
    "X = countVectorizer.fit_transform(arguments)\n",
    "Z = X.toarray()\n",
    "\n",
    "#making dataframe of all features \n",
    "features = pd.DataFrame(Z)   \n",
    "features['adj'] = pd.Series(adj_ratios, index=features.index)\n",
    "features['advb'] = pd.Series(advb_ratios, index=features.index)\n",
    "features['noun'] = pd.Series(noun_ratios, index=features.index)\n",
    "features['prep'] = pd.Series(prep_ratios, index=features.index)\n",
    "features['pro'] = pd.Series(pro_ratios, index=features.index)\n",
    "features['interj'] = pd.Series(interj_ratios, index=features.index)\n",
    "features['verb'] = pd.Series(verb_ratios, index=features.index)\n",
    "features['rbs'] = pd.Series(rbs_ratios, index=features.index)\n",
    "features['jjs'] = pd.Series(jjs_ratios, index=features.index)\n",
    "features['contextuality'] = pd.Series(contextuality_measure, index=features.index)\n",
    "features['modals'] = pd.Series(Modals, index=features.index)\n",
    "features['will'] = pd.Series(Will, index=features.index)\n",
    "features['should'] = pd.Series(Should, index=features.index)\n",
    "features['could'] = pd.Series(Could, index=features.index)\n",
    "features['can'] = pd.Series(Can, index=features.index)\n",
    "features['may'] = pd.Series(May, index=features.index)\n",
    "features['might'] = pd.Series(Might, index=features.index)\n",
    "features['shall'] = pd.Series(Shall, index=features.index)\n",
    "features['would'] = pd.Series(Would, index=features.index)\n",
    "features['must'] = pd.Series(Must, index=features.index)\n",
    "#features['rank'] = pd.Series(ranks, index=features.index)\n",
    "features.head()\n"
   ]
  },
  {
   "cell_type": "markdown",
   "metadata": {},
   "source": [
    "<h3> Visualizing relations between different types of parts of speech and rank + contextuality measure </h3>"
   ]
  },
  {
   "cell_type": "code",
   "execution_count": 8,
   "metadata": {
    "collapsed": false,
    "scrolled": true
   },
   "outputs": [
    {
     "data": {
      "text/plain": [
       "<matplotlib.legend.Legend at 0xb32b7f0>"
      ]
     },
     "execution_count": 8,
     "metadata": {},
     "output_type": "execute_result"
    },
    {
     "data": {
      "image/png": "[encoded data removed]",
      "text/plain": [
       "<matplotlib.figure.Figure at 0xaed3c70>"
      ]
     },
     "metadata": {},
     "output_type": "display_data"
    }
   ],
   "source": [
    "import seaborn as sns\n",
    "import matplotlib.pyplot as plt\n",
    "import numpy as np\n",
    "%matplotlib inline\n",
    "\n",
    "sns.set_palette('hls',n_colors = 10)\n",
    "plt.hist(x = [advb_ratios, adj_ratios, verb_ratios], bins = np.linspace(0,0.4,10), label = ['adverbs', 'adjectives', 'verbs'])\n",
    "#plt.xticks(np.around(ranks,1))\n",
    "plt.xlabel('Argument Rank')\n",
    "plt.ylabel('Frequency')\n",
    "plt.legend()\n"
   ]
  },
  {
   "cell_type": "code",
   "execution_count": 9,
   "metadata": {
    "collapsed": false
   },
   "outputs": [
    {
     "data": {
      "text/plain": [
       "<matplotlib.legend.Legend at 0xb671e70>"
      ]
     },
     "execution_count": 9,
     "metadata": {},
     "output_type": "execute_result"
    },
    {
     "data": {
      "image/png": "[encoded data removed]",
      "text/plain": [
       "<matplotlib.figure.Figure at 0xaed3230>"
      ]
     },
     "metadata": {},
     "output_type": "display_data"
    }
   ],
   "source": [
    "plt.hist(x=[advb_ratios,adj_ratios,verb_ratios],histtype = 'barstacked', bins = np.linspace(0,0.4,10), label = ['adverbs','adjectives', 'verbs'])\n",
    "#plt.xticks(np.around(ranks,1))\n",
    "plt.xlabel('Argument Rank')\n",
    "plt.ylabel('Frequency')\n",
    "plt.legend()\n"
   ]
  },
  {
   "cell_type": "code",
   "execution_count": 10,
   "metadata": {
    "collapsed": false
   },
   "outputs": [
    {
     "data": {
      "text/plain": [
       "<matplotlib.legend.Legend at 0xb5b7ef0>"
      ]
     },
     "execution_count": 10,
     "metadata": {},
     "output_type": "execute_result"
    },
    {
     "data": {
      "image/png": "[encoded data removed]",
      "text/plain": [
       "<matplotlib.figure.Figure at 0xb57f330>"
      ]
     },
     "metadata": {},
     "output_type": "display_data"
    }
   ],
   "source": [
    "plt.hist(x=[noun_ratios,pro_ratios,prep_ratios], bins = np.linspace(0,0.4,10),  label = ['nouns','pronomens', 'prepositions'])\n",
    "#plt.xticks(np.around(ranks,1))\n",
    "plt.xlabel('Argument Rank')\n",
    "plt.ylabel('Frequency')\n",
    "plt.legend()\n"
   ]
  },
  {
   "cell_type": "code",
   "execution_count": 11,
   "metadata": {
    "collapsed": false
   },
   "outputs": [
    {
     "data": {
      "text/plain": [
       "<matplotlib.legend.Legend at 0xb965c10>"
      ]
     },
     "execution_count": 11,
     "metadata": {},
     "output_type": "execute_result"
    },
    {
     "data": {
      "image/png": "[encoded data removed]",
      "text/plain": [
       "<matplotlib.figure.Figure at 0xb5f5530>"
      ]
     },
     "metadata": {},
     "output_type": "display_data"
    }
   ],
   "source": [
    "plt.hist(x=[noun_ratios,pro_ratios,prep_ratios],histtype = 'barstacked', bins = np.linspace(0,0.4,10), label = ['nouns','pronomens', 'prepositions'])\n",
    "#plt.xticks(np.around(ranks,1))\n",
    "plt.xlabel('Argument Rank')\n",
    "plt.ylabel('Frequency')\n",
    "plt.legend()\n"
   ]
  },
  {
   "cell_type": "code",
   "execution_count": 12,
   "metadata": {
    "collapsed": false
   },
   "outputs": [
    {
     "data": {
      "text/plain": [
       "<matplotlib.legend.Legend at 0xb7c20b0>"
      ]
     },
     "execution_count": 12,
     "metadata": {},
     "output_type": "execute_result"
    },
    {
     "data": {
      "image/png": "[encoded data removed]",
      "text/plain": [
       "<matplotlib.figure.Figure at 0xb940790>"
      ]
     },
     "metadata": {},
     "output_type": "display_data"
    }
   ],
   "source": [
    "plt.hist(x=[jjs_ratios,rbs_ratios], bins = np.linspace(0,0.4,10), label = ['Superlative adverbs','Superlative adjectives'])\n",
    "#plt.xticks(np.round(ranks,1))\n",
    "plt.xlabel('Argument Rank')\n",
    "plt.ylabel('Frequency')\n",
    "plt.legend()\n"
   ]
  },
  {
   "cell_type": "code",
   "execution_count": 13,
   "metadata": {
    "collapsed": false
   },
   "outputs": [
    {
     "data": {
      "text/plain": [
       "<matplotlib.legend.Legend at 0xb8246d0>"
      ]
     },
     "execution_count": 13,
     "metadata": {},
     "output_type": "execute_result"
    },
    {
     "data": {
      "image/png": "[encoded data removed]",
      "text/plain": [
       "<matplotlib.figure.Figure at 0xb7e4db0>"
      ]
     },
     "metadata": {},
     "output_type": "display_data"
    }
   ],
   "source": [
    "plt.hist(x=[Can,Could,Should,Would,Will,Must,May,Might,Shall], bins = np.linspace(0,0.4,10), label = ['Can','Could','Should','Would','Will','Must','May','Might','Shall'], histtype = 'bar')\n",
    "plt.xlabel('Argument Rank')\n",
    "plt.ylabel('Frequency')\n",
    "plt.legend()\n"
   ]
  },
  {
   "cell_type": "code",
   "execution_count": 14,
   "metadata": {
    "collapsed": false
   },
   "outputs": [
    {
     "data": {
      "text/plain": [
       "<matplotlib.text.Text at 0xbab97b0>"
      ]
     },
     "execution_count": 14,
     "metadata": {},
     "output_type": "execute_result"
    },
    {
     "data": {
      "image/png": "[encoded data removed]",
      "text/plain": [
       "<matplotlib.figure.Figure at 0xbada3d0>"
      ]
     },
     "metadata": {},
     "output_type": "display_data"
    }
   ],
   "source": [
    "plt.hist(x=contextuality_measure, bins = np.linspace(0,0.4,10))\n",
    "#plt.xticks(np.around(ranks,1))\n",
    "plt.xlabel('Argument Rank')\n",
    "plt.ylabel('Frequency')\n"
   ]
  },
  {
   "cell_type": "code",
   "execution_count": 15,
   "metadata": {
    "collapsed": false
   },
   "outputs": [
    {
     "data": {
      "text/plain": [
       "<matplotlib.legend.Legend at 0xbb59f70>"
      ]
     },
     "execution_count": 15,
     "metadata": {},
     "output_type": "execute_result"
    },
    {
     "data": {
      "image/png": "[encoded data removed]",
      "text/plain": [
       "<matplotlib.figure.Figure at 0xbafa390>"
      ]
     },
     "metadata": {},
     "output_type": "display_data"
    }
   ],
   "source": [
    "plt.hist(x=[noun_ratios,pro_ratios,prep_ratios,verb_ratios,noun_ratios,rbs_ratios,jjs_ratios,advb_ratios,adj_ratios,interj_ratios], bins = np.linspace(0,0.4,10), label = ['nouns','pronomens', 'prepositions','verbs','nouns','rbs','jjs','adverbs','adjectives','interjections'],histtype ='barstacked')\n",
    "#plt.xticks(np.around(ranks,1))\n",
    "plt.xlabel('Argument Rank')\n",
    "plt.ylabel('Frequency')\n",
    "plt.legend()\n"
   ]
  },
  {
   "cell_type": "markdown",
   "metadata": {},
   "source": [
    "<h3> Creating a model and CV it </h3>\n"
   ]
  },
  {
   "cell_type": "code",
   "execution_count": 16,
   "metadata": {
    "collapsed": false
   },
   "outputs": [
    {
     "name": "stdout",
     "output_type": "stream",
     "text": [
      "{'C': 7, 'kernel': 'rbf'}\n",
      "-1.21219481514\n",
      "-0.804215454753\n"
     ]
    }
   ],
   "source": [
    "from sklearn.svm import SVR\n",
    "from sklearn.model_selection import GridSearchCV\n",
    "\n",
    "svr = SVR()\n",
    "param_grid = {'kernel':['linear','rbf','poly','sigmoid'], 'C':[1,5,7,25,35,45]}\n",
    "gscv = GridSearchCV(svr,param_grid, cv = 6)\n",
    "gscv.fit(features, ranks)\n",
    "print(gscv.best_params_)\n",
    "print(gscv.best_score_)\n",
    "print(gscv.score(features, ranks))\n",
    "\n"
   ]
  },
  {
   "cell_type": "markdown",
   "metadata": {},
   "source": [
    "<h4> Since in the above block the gridsearch got stuck when using epsilon or gamma I try it again for only the gamma and epsilon</h4>\n"
   ]
  },
  {
   "cell_type": "code",
   "execution_count": 17,
   "metadata": {
    "collapsed": false
   },
   "outputs": [
    {
     "name": "stdout",
     "output_type": "stream",
     "text": [
      "{'gamma': 0.08, 'epsilon': 0.01}\n",
      "-0.607930432374\n"
     ]
    }
   ],
   "source": [
    "from sklearn.svm import SVR\n",
    "from sklearn.model_selection import GridSearchCV\n",
    "\n",
    "svr = SVR(kernel = 'rbf', C = 7)\n",
    "param_grid = {'gamma':[0.09,0.08,0.1,0.2], 'epsilon':[0.001,0.002,0.003,0.01,0.2]}\n",
    "gscv = GridSearchCV(svr,param_grid, cv = 6)\n",
    "gscv.fit(features, ranks)\n",
    "print(gscv.best_params_)\n",
    "print(gscv.best_score_)\n"
   ]
  },
  {
   "cell_type": "code",
   "execution_count": 18,
   "metadata": {
    "collapsed": false
   },
   "outputs": [
    {
     "name": "stdout",
     "output_type": "stream",
     "text": [
      "MSE score : 0.004146412457083621\n",
      "R^2 score: -0.8315483750752733\n",
      "MAE score: 0.028533220431886653\n",
      "EVS score: -0.8091207973469418\n"
     ]
    }
   ],
   "source": [
    "from sklearn.model_selection import KFold\n",
    "from sklearn.metrics import mean_squared_error\n",
    "from sklearn.metrics import median_absolute_error\n",
    "from sklearn.metrics import r2_score\n",
    "from sklearn.metrics import explained_variance_score\n",
    "kf = KFold(n_splits=10)\n",
    "svr = SVR(kernel = 'rbf', C = 7, epsilon = 0.01, gamma = 0.2)\n",
    "r2 = []\n",
    "mae = []\n",
    "mse = []\n",
    "evs = []\n",
    "for train_index, test_index in kf.split(ranks):\n",
    "    x_train, x_test = features.iloc[train_index], features.iloc[test_index]\n",
    "    y_train, y_test = ranks[train_index], ranks[test_index]\n",
    "    svr.fit(x_train, y_train)\n",
    "    predictions = svr.predict(x_test)\n",
    "    mse.append(mean_squared_error(y_test,predictions))\n",
    "    r2.append(r2_score(y_test,predictions))\n",
    "    mae.append(median_absolute_error(y_test,predictions))\n",
    "    evs.append(explained_variance_score(y_test,predictions))\n",
    "    \n",
    "    \n",
    "\n",
    "print ('MSE score : {}'.format(np.asarray(mse).mean())) \n",
    "print ('R^2 score: {}'.format(np.asarray(r2).mean()))\n",
    "print ('MAE score: {}'.format(np.asarray(mae).mean()))\n",
    "print ('EVS score: {}'.format(np.asarray(evs).mean()))"
   ]
  },
  {
   "cell_type": "markdown",
   "metadata": {},
   "source": [
    " Well it looks well tho negativity shows that there may be flaws but that can be fixed later with extracting more features like sentiment, exlamation marks and etc.\n",
    " "
   ]
  },
  {
   "cell_type": "markdown",
   "metadata": {},
   "source": [
    "# Thank you for reading my notebook :)\n"
   ]
  },
  {
   "cell_type": "code",
   "execution_count": 19,
   "metadata": {
    "collapsed": false
   },
   "outputs": [
    {
     "data": {
      "text/plain": [
       "['C:\\\\Users\\\\nithe\\\\Desktop\\\\debateit\\\\static\\\\Regression.pkl']"
      ]
     },
     "execution_count": 19,
     "metadata": {},
     "output_type": "execute_result"
    }
   ],
   "source": [
    "from sklearn.externals import joblib\n",
    "svr = SVR(kernel='rbf', C=7, epsilon = 0.01, gamma = 0.2)\n",
    "svr.fit(features,ranks)\n",
    "joblib.dump(countVectorizer.vocabulary_, 'C:\\\\Users\\\\nithe\\\\Desktop\\\\debateit\\\\static\\\\CountVect.pkl')\n",
    "joblib.dump(svr, 'C:\\\\Users\\\\nithe\\\\Desktop\\\\debateit\\\\static\\\\Regression.pkl')"
   ]
  },
  {
   "cell_type": "code",
   "execution_count": null,
   "metadata": {
    "collapsed": true
   },
   "outputs": [],
   "source": []
  }
 ],
 "metadata": {
  "kernelspec": {
   "display_name": "Python 3",
   "language": "python",
   "name": "python3"
  },
  "language_info": {
   "codemirror_mode": {
    "name": "ipython",
    "version": 3
   },
   "file_extension": ".py",
   "mimetype": "text/x-python",
   "name": "python",
   "nbconvert_exporter": "python",
   "pygments_lexer": "ipython3",
   "version": "3.5.2"
  }
 },
 "nbformat": 4,
 "nbformat_minor": 1
}
